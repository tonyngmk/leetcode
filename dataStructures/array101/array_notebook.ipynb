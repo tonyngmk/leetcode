{
 "cells": [
  {
   "cell_type": "code",
   "execution_count": 3,
   "metadata": {},
   "outputs": [],
   "source": [
    "import base64\n",
    "from IPython.display import Image, display\n",
    "import matplotlib.pyplot as plt\n",
    "\n",
    "def mm(graph):\n",
    "  graphbytes = graph.encode(\"ascii\")\n",
    "  base64_bytes = base64.b64encode(graphbytes)\n",
    "  base64_string = base64_bytes.decode(\"ascii\")\n",
    "  display(Image(url=\"https://mermaid.ink/img/\" + base64_string))"
   ]
  },
  {
   "cell_type": "code",
   "execution_count": 24,
   "metadata": {},
   "outputs": [
    {
     "data": {
      "text/html": [
       "<img src=\"https://mermaid.ink/img/CmdyYXBoIExSOwogICAgMFsxN10KICAgIDFbMThdCiAgICAyWzVdCiAgICAzWzRdCiAgICA0WzZdCiAgICA1WzFdIAogICAgNlstMV0KICAgIHN1YmdyYXBoIG1heDEKICAgIDUgLS4tPiA2CiAgICBlbmQKICAgIDAgLS0+IDEgLS0+IDIgLS0+IDMgLS0+IDQgLS0+IDUK\"/>"
      ],
      "text/plain": [
       "<IPython.core.display.Image object>"
      ]
     },
     "metadata": {},
     "output_type": "display_data"
    }
   ],
   "source": [
    "mm(\"\"\"\n",
    "graph LR;\n",
    "    0[17]\n",
    "    1[18]\n",
    "    2[5]\n",
    "    3[4]\n",
    "    4[6]\n",
    "    5[1] \n",
    "    6[-1]\n",
    "    subgraph max1\n",
    "    5 -.-> 6\n",
    "    end\n",
    "    0 --> 1 --> 2 --> 3 --> 4 --> 5\n",
    "\"\"\")"
   ]
  },
  {
   "cell_type": "code",
   "execution_count": null,
   "metadata": {},
   "outputs": [],
   "source": [
    "mm(\"\"\"\n",
    "graph LR;\n",
    "    0[17]\n",
    "    1[18]\n",
    "    2[5]\n",
    "    3[4]\n",
    "    4[6]\n",
    "    5[2]\n",
    "    subgraph max2\n",
    "    5 -.-> 6\n",
    "    end\n",
    "    0 --> 1 --> 2 --> 3 --> 4 --> 5\n",
    "\"\"\")"
   ]
  },
  {
   "cell_type": "code",
   "execution_count": null,
   "metadata": {},
   "outputs": [],
   "source": []
  }
 ],
 "metadata": {
  "kernelspec": {
   "display_name": "Python 3.9.7 ('base')",
   "language": "python",
   "name": "python3"
  },
  "language_info": {
   "codemirror_mode": {
    "name": "ipython",
    "version": 3
   },
   "file_extension": ".py",
   "mimetype": "text/x-python",
   "name": "python",
   "nbconvert_exporter": "python",
   "pygments_lexer": "ipython3",
   "version": "3.9.7"
  },
  "orig_nbformat": 4,
  "vscode": {
   "interpreter": {
    "hash": "433bd9d3577da4f90154dcdbda70023c11a2248e44a08f1d6a542720e9feb2b6"
   }
  }
 },
 "nbformat": 4,
 "nbformat_minor": 2
}
